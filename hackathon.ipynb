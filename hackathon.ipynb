{
 "cells": [
  {
   "cell_type": "code",
   "execution_count": 7,
   "id": "c4a81cea-7bd3-426e-863f-57794793b548",
   "metadata": {},
   "outputs": [],
   "source": [
    "import calendar\n",
    "import json\n",
    "import os\n",
    "import datetime\n",
    "\n",
    "import django\n",
    "from django.conf import settings\n",
    "import stripe\n",
    "\n",
    "os.environ.setdefault('DJANGO_SETTINGS_MODULE', 'your_project_name.settings')\n",
    "django.setup()\n",
    "\n",
    "os.environ[\"DJANGO_ALLOW_ASYNC_UNSAFE\"] = \"true\"\n"
   ]
  },
  {
   "cell_type": "code",
   "execution_count": 67,
   "id": "75b926ee-3095-4210-b88b-199202d38870",
   "metadata": {},
   "outputs": [],
   "source": [
    "from apps.contributions.models import Contribution\n",
    "from apps.organizations.models import RevenueProgram\n",
    "\n",
    "billy_penn = RevenueProgram.objects.get(pk=3)\n"
   ]
  },
  {
   "cell_type": "code",
   "execution_count": null,
   "id": "5ea21ee1-d175-426a-9715-6e600edad71a",
   "metadata": {},
   "outputs": [],
   "source": [
    "subs = [sub for sub in stripe.Subscription.list(status=\"all\").auto_paging_iter()]"
   ]
  },
  {
   "cell_type": "code",
   "execution_count": 70,
   "id": "a7bdb7d3-a34c-4360-ad73-735aa0e90c97",
   "metadata": {},
   "outputs": [],
   "source": [
    "subs = [x for x in subs if x.plan.interval == \"month\"]"
   ]
  },
  {
   "cell_type": "code",
   "execution_count": 71,
   "id": "ab0bd375-a330-410b-b2d6-e743653af406",
   "metadata": {},
   "outputs": [
    {
     "data": {
      "text/plain": [
       "1779"
      ]
     },
     "execution_count": 71,
     "metadata": {},
     "output_type": "execute_result"
    }
   ],
   "source": [
    "len(subs)"
   ]
  },
  {
   "cell_type": "code",
   "execution_count": 72,
   "id": "4676f461-9710-4bf8-b64c-4c641649b6fa",
   "metadata": {},
   "outputs": [],
   "source": [
    "with open(\"bp-monthly-subs.json\", \"w\") as fl:\n",
    "    json.dump(subs, fl)"
   ]
  },
  {
   "cell_type": "code",
   "execution_count": 75,
   "id": "82b9faf1-b0b9-4e65-a0f1-3220aa14dc15",
   "metadata": {},
   "outputs": [],
   "source": [
    "mapped_subs = [{\"id\": x.id, \"status\": x.status, \"created\": x.created, \"canceled_at\": x.canceled_at} for x in subs if x.latest_invoice]"
   ]
  },
  {
   "cell_type": "code",
   "execution_count": 76,
   "id": "3cc57319-2175-4889-b23b-39a98426c8e3",
   "metadata": {},
   "outputs": [],
   "source": [
    "def get_active_subscriptions_for_month(month, year, subs_map):\n",
    "    results = []\n",
    "    for x in subs_map:\n",
    "        created = datetime.datetime.fromtimestamp(x[\"created\"])\n",
    "        canceled_at = datetime.datetime.fromtimestamp(x[\"created\"]) if x[\"canceled_at\"] else None\n",
    "        if x[\"status\"] != \"active\":\n",
    "            continue\n",
    "        if created.year > year:\n",
    "            continue\n",
    "        if any([\n",
    "            created.year == year and created.month <= month,\n",
    "            created.year < year\n",
    "        ]):   \n",
    "            results.append(x)\n",
    "    return results\n",
    "\n",
    "def get_canceled_subscriptions_for_month(month, year, subs_map):\n",
    "    results = []\n",
    "    for x in subs_map:\n",
    "        canceled_at = datetime.datetime.fromtimestamp(x[\"canceled_at\"]) if x[\"canceled_at\"] else None\n",
    "        if canceled_at and canceled_at.year == year and canceled_at.month == month:\n",
    "            results.append(x)\n",
    "    return results"
   ]
  },
  {
   "cell_type": "code",
   "execution_count": 97,
   "id": "5b03137a-fbf1-4591-85d0-a7ef42e38735",
   "metadata": {},
   "outputs": [],
   "source": [
    "def calculate_churn_by_month(subs_map):\n",
    "    results = dict()\n",
    "    # we bookend to get complete first month and complete last month\n",
    "    earliest_creation_date = datetime.datetime.fromtimestamp(min((x[\"created\"] for x in mapped_subs)))\n",
    "    latest_creation_date = datetime.datetime.fromtimestamp(max((x[\"created\"] for x in mapped_subs)))\n",
    "    # if earliest creation date day is the first, we can use that date's month and year as earliest\n",
    "    if earliest_creation_date.day == 1:\n",
    "        start_month = earliest_creation_date.month\n",
    "        start_year = earliest_creation_date.year\n",
    "    # otherwise, we need to look one month ahead\n",
    "    else:\n",
    "        start_month = earliest_creation_date.month + 1\n",
    "        start_year = earliest_creation_date.year if earliest_creation_date.month != 12 else earliest_creation_date.year + 1 \n",
    "\n",
    "    last_day_of_last_month = calendar.monthrange(latest_creation_date.year, latest_creation_date.month)[1]\n",
    "\n",
    "    if latest_creation_date.day == last_day_of_last_month:\n",
    "        end_month = latest_creation_date.month\n",
    "        end_year = latest_creation_date.year\n",
    "    else:\n",
    "        end_month = latest_creation_date.month - 1\n",
    "        end_year = latest_creation_date.year if latest_creation_date.month != 1 else latest_creation_date.year - 1\n",
    "    \n",
    "    current_date = datetime.datetime(year=start_year, month=start_month, day=1)\n",
    "    end_date = datetime.datetime(year=end_year, month=end_month, day=1)\n",
    "    while current_date <= end_date:\n",
    "        active_subs = get_active_subscriptions_for_month(current_date.month, current_date.year, subs_map)\n",
    "        canceled_subs = get_canceled_subscriptions_for_month(current_date.month, current_date.year, subs_map)\n",
    "        churn = {\n",
    "            \"churn_rate\": len(canceled_subs) / len(active_subs),\n",
    "            \"num_active\": len(active_subs),\n",
    "            \"num_canceled\": len(canceled_subs)\n",
    "        }\n",
    "        _year, _month = str(current_date.year), str(current_date.month)\n",
    "        \n",
    "        if _year in results:\n",
    "            results[_year][_month] = churn\n",
    "        else:\n",
    "            results[_year] = {_month: churn}\n",
    "        \n",
    "        # Move to the next month\n",
    "        if current_date.month == 12:\n",
    "            current_date = current_date.replace(year=current_date.year + 1, month=1)\n",
    "        else:\n",
    "            current_date = current_date.replace(month=current_date.month + 1)\n",
    "\n",
    "    return results\n",
    "     \n",
    "    "
   ]
  },
  {
   "cell_type": "code",
   "execution_count": 98,
   "id": "16766539-44dc-4d46-afcd-3b8951864279",
   "metadata": {},
   "outputs": [],
   "source": [
    "churn = calculate_churn_by_month(mapped_subs)"
   ]
  },
  {
   "cell_type": "code",
   "execution_count": 99,
   "id": "8aa1061d-c2ac-495a-bf60-3e6cd8e764b4",
   "metadata": {},
   "outputs": [
    {
     "data": {
      "text/plain": [
       "{'2022': {'11': {'churn_rate': 0.75, 'num_active': 20, 'num_canceled': 15},\n",
       "  '12': {'churn_rate': 0.3191489361702128,\n",
       "   'num_active': 47,\n",
       "   'num_canceled': 15}},\n",
       " '2023': {'1': {'churn_rate': 0.11764705882352941,\n",
       "   'num_active': 51,\n",
       "   'num_canceled': 6},\n",
       "  '2': {'churn_rate': 0.12307692307692308,\n",
       "   'num_active': 65,\n",
       "   'num_canceled': 8},\n",
       "  '3': {'churn_rate': 0.2235294117647059,\n",
       "   'num_active': 85,\n",
       "   'num_canceled': 19},\n",
       "  '4': {'churn_rate': 0.09345794392523364,\n",
       "   'num_active': 107,\n",
       "   'num_canceled': 10},\n",
       "  '5': {'churn_rate': 0.09090909090909091,\n",
       "   'num_active': 121,\n",
       "   'num_canceled': 11},\n",
       "  '6': {'churn_rate': 0.09696969696969697,\n",
       "   'num_active': 165,\n",
       "   'num_canceled': 16},\n",
       "  '7': {'churn_rate': 0.07575757575757576,\n",
       "   'num_active': 198,\n",
       "   'num_canceled': 15},\n",
       "  '8': {'churn_rate': 0.020833333333333332,\n",
       "   'num_active': 1056,\n",
       "   'num_canceled': 22},\n",
       "  '9': {'churn_rate': 0.04143646408839779,\n",
       "   'num_active': 1086,\n",
       "   'num_canceled': 45},\n",
       "  '10': {'churn_rate': 0.032403240324032405,\n",
       "   'num_active': 1111,\n",
       "   'num_canceled': 36},\n",
       "  '11': {'churn_rate': 0.023376623376623377,\n",
       "   'num_active': 1155,\n",
       "   'num_canceled': 27},\n",
       "  '12': {'churn_rate': 0.024493243243243243,\n",
       "   'num_active': 1184,\n",
       "   'num_canceled': 29}},\n",
       " '2024': {'1': {'churn_rate': 0.030452674897119343,\n",
       "   'num_active': 1215,\n",
       "   'num_canceled': 37},\n",
       "  '2': {'churn_rate': 0.02034174125305126,\n",
       "   'num_active': 1229,\n",
       "   'num_canceled': 25},\n",
       "  '3': {'churn_rate': 0.020064205457463884,\n",
       "   'num_active': 1246,\n",
       "   'num_canceled': 25},\n",
       "  '4': {'churn_rate': 0.020750199521149242,\n",
       "   'num_active': 1253,\n",
       "   'num_canceled': 26},\n",
       "  '5': {'churn_rate': 0.014218009478672985,\n",
       "   'num_active': 1266,\n",
       "   'num_canceled': 18},\n",
       "  '6': {'churn_rate': 0.02147239263803681,\n",
       "   'num_active': 1304,\n",
       "   'num_canceled': 28}}}"
      ]
     },
     "execution_count": 99,
     "metadata": {},
     "output_type": "execute_result"
    }
   ],
   "source": [
    "churn"
   ]
  },
  {
   "cell_type": "code",
   "execution_count": null,
   "id": "42154dc0-223a-46b7-a0da-6b3394654faa",
   "metadata": {},
   "outputs": [],
   "source": []
  }
 ],
 "metadata": {
  "kernelspec": {
   "display_name": "revengine",
   "language": "python",
   "name": ".venv"
  },
  "language_info": {
   "codemirror_mode": {
    "name": "ipython",
    "version": 3
   },
   "file_extension": ".py",
   "mimetype": "text/x-python",
   "name": "python",
   "nbconvert_exporter": "python",
   "pygments_lexer": "ipython3",
   "version": "3.10.13"
  }
 },
 "nbformat": 4,
 "nbformat_minor": 5
}
